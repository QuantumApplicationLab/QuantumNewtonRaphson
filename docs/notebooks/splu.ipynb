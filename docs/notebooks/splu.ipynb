{
 "cells": [
  {
   "cell_type": "code",
   "execution_count": null,
   "metadata": {},
   "outputs": [],
   "source": [
    "import scipy.sparse\n",
    "from scipy.sparse import sparray, triu\n",
    "import numpy as np "
   ]
  },
  {
   "cell_type": "code",
   "execution_count": null,
   "metadata": {},
   "outputs": [
    {
     "data": {
      "text/plain": [
       "matrix([[1.33054254, 0.37713158, 0.        , 0.87937383, 0.4372376 ],\n",
       "        [0.37713158, 0.        , 0.81785691, 0.27187483, 1.01724692],\n",
       "        [0.        , 0.81785691, 0.        , 0.        , 0.        ],\n",
       "        [0.87937383, 0.27187483, 0.        , 0.        , 1.49414634],\n",
       "        [0.4372376 , 1.01724692, 0.        , 1.49414634, 0.        ]])"
      ]
     },
     "execution_count": 2,
     "metadata": {},
     "output_type": "execute_result"
    }
   ],
   "source": [
    "A = scipy.sparse.random(5,5, density = 0.5, format='csr')\n",
    "A = A + A.T\n",
    "A.todense()"
   ]
  },
  {
   "cell_type": "code",
   "execution_count": null,
   "metadata": {},
   "outputs": [
    {
     "data": {
      "text/plain": [
       "matrix([[3, 3, 0, 1, 0]])"
      ]
     },
     "execution_count": 3,
     "metadata": {},
     "output_type": "execute_result"
    }
   ],
   "source": [
    "Abool = (scipy.sparse.triu(A, k=1) != 0)\n",
    "Abool.sum(1).flatten()"
   ]
  },
  {
   "cell_type": "code",
   "execution_count": null,
   "metadata": {},
   "outputs": [
    {
     "data": {
      "text/plain": [
       "matrix([[2, 4, 3, 0, 1]])"
      ]
     },
     "execution_count": 4,
     "metadata": {},
     "output_type": "execute_result"
    }
   ],
   "source": [
    "np.argsort(Abool.sum(1).flatten())"
   ]
  },
  {
   "cell_type": "code",
   "execution_count": null,
   "metadata": {},
   "outputs": [
    {
     "data": {
      "text/plain": [
       "matrix([[2, 4, 3, 0, 1]])"
      ]
     },
     "execution_count": 5,
     "metadata": {},
     "output_type": "execute_result"
    }
   ],
   "source": [
    "np.argsort(Abool.sum(1).flatten())"
   ]
  },
  {
   "cell_type": "code",
   "execution_count": null,
   "metadata": {},
   "outputs": [],
   "source": [
    "from quantum_newton_raphson.splu_solve import splu_solve, get_ordering"
   ]
  },
  {
   "cell_type": "code",
   "execution_count": null,
   "metadata": {},
   "outputs": [],
   "source": [
    "b = scipy.sparse.random(5,1, density = 0.5, format='csr')"
   ]
  },
  {
   "cell_type": "code",
   "execution_count": null,
   "metadata": {},
   "outputs": [],
   "source": [
    "idx = get_ordering(A, 'max_edge', {})"
   ]
  },
  {
   "cell_type": "code",
   "execution_count": null,
   "metadata": {},
   "outputs": [
    {
     "data": {
      "text/plain": [
       "<5x5 sparse matrix of type '<class 'numpy.float64'>'\n",
       "\twith 15 stored elements in Compressed Sparse Row format>"
      ]
     },
     "execution_count": 9,
     "metadata": {},
     "output_type": "execute_result"
    }
   ],
   "source": [
    "A[np.ix_(idx,idx)]"
   ]
  },
  {
   "cell_type": "code",
   "execution_count": null,
   "metadata": {},
   "outputs": [],
   "source": [
    "b  = np.random.rand(5,1)\n",
    "b = b[idx]"
   ]
  },
  {
   "cell_type": "code",
   "execution_count": null,
   "metadata": {},
   "outputs": [
    {
     "name": "stderr",
     "output_type": "stream",
     "text": [
      "/home/nico/miniconda3/envs/alliander_powerflow/lib/python3.9/site-packages/scipy/sparse/linalg/_dsolve/linsolve.py:412: SparseEfficiencyWarning: splu converted its input to CSC format\n",
      "  warn('splu converted its input to CSC format', SparseEfficiencyWarning)\n"
     ]
    }
   ],
   "source": [
    "from scipy.sparse.linalg import splu \n",
    "solver = splu(A, permc_spec=\"NATURAL\")"
   ]
  },
  {
   "cell_type": "code",
   "execution_count": null,
   "metadata": {},
   "outputs": [
    {
     "data": {
      "text/plain": [
       "array([[-0.61005325],\n",
       "       [ 0.3619184 ],\n",
       "       [-0.61640271],\n",
       "       [ 0.59032058],\n",
       "       [ 0.8077424 ]])"
      ]
     },
     "execution_count": 16,
     "metadata": {},
     "output_type": "execute_result"
    }
   ],
   "source": [
    "solver.solve(b)"
   ]
  },
  {
   "cell_type": "code",
   "execution_count": null,
   "metadata": {},
   "outputs": [
    {
     "ename": "UnboundLocalError",
     "evalue": "local variable 'splu' referenced before assignment",
     "output_type": "error",
     "traceback": [
      "\u001b[0;31m---------------------------------------------------------------------------\u001b[0m",
      "\u001b[0;31mUnboundLocalError\u001b[0m                         Traceback (most recent call last)",
      "\u001b[1;32m/home/nico/QuantumApplicationLab/QuantumNewtonRaphson/docs/notebooks/splu.ipynb Cell 13\u001b[0m line \u001b[0;36m1\n\u001b[0;32m----> <a href='vscode-notebook-cell:/home/nico/QuantumApplicationLab/QuantumNewtonRaphson/docs/notebooks/splu.ipynb#X22sZmlsZQ%3D%3D?line=0'>1</a>\u001b[0m splu_solve(A,b )\n",
      "File \u001b[0;32m~/QuantumApplicationLab/QuantumNewtonRaphson/quantum_newton_raphson/splu_solve.py:65\u001b[0m, in \u001b[0;36msplu_solve\u001b[0;34m(A, b, options)\u001b[0m\n\u001b[1;32m     62\u001b[0m A = A[np.ix_(order, order)]\n\u001b[1;32m     63\u001b[0m b = b[order]\n\u001b[0;32m---> 65\u001b[0m # solve\n\u001b[1;32m     66\u001b[0m solver = splu(A, permc_spec=\"NATURAL\")\n\u001b[1;32m     67\u001b[0m x = solver.solve(b)\n",
      "\u001b[0;31mUnboundLocalError\u001b[0m: local variable 'splu' referenced before assignment"
     ]
    }
   ],
   "source": [
    "splu_solve(A,b )"
   ]
  },
  {
   "cell_type": "code",
   "execution_count": null,
   "metadata": {},
   "outputs": [],
   "source": []
  }
 ],
 "metadata": {
  "kernelspec": {
   "display_name": "alliander_powerflow",
   "language": "python",
   "name": "python3"
  },
  "language_info": {
   "codemirror_mode": {
    "name": "ipython",
    "version": 3
   },
   "file_extension": ".py",
   "mimetype": "text/x-python",
   "name": "python",
   "nbconvert_exporter": "python",
   "pygments_lexer": "ipython3",
   "version": "3.9.18"
  }
 },
 "nbformat": 4,
 "nbformat_minor": 2
}
