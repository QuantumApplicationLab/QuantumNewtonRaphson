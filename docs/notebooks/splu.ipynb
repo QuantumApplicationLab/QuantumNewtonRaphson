{
 "cells": [
  {
   "cell_type": "code",
   "execution_count": 1,
   "metadata": {},
   "outputs": [],
   "source": [
    "import scipy.sparse as spsp\n",
    "import numpy as np \n",
    "from quantum_newton_raphson.splu_solve import splu_solve, get_ordering"
   ]
  },
  {
   "cell_type": "code",
   "execution_count": 2,
   "metadata": {},
   "outputs": [
    {
     "data": {
      "text/plain": [
       "matrix([[1.44590355, 0.        , 0.61809232, 0.9190956 , 0.35149904],\n",
       "        [0.        , 1.22051808, 0.60648747, 0.        , 1.94639502],\n",
       "        [0.61809232, 0.60648747, 0.        , 0.90956383, 0.        ],\n",
       "        [0.9190956 , 0.        , 0.90956383, 1.10201577, 0.39875907],\n",
       "        [0.35149904, 1.94639502, 0.        , 0.39875907, 0.        ]])"
      ]
     },
     "execution_count": 2,
     "metadata": {},
     "output_type": "execute_result"
    }
   ],
   "source": [
    "A = spsp.random(5,5, density = 0.5, format='csr')\n",
    "A = A + A.T\n",
    "A.todense()"
   ]
  },
  {
   "cell_type": "code",
   "execution_count": 3,
   "metadata": {},
   "outputs": [],
   "source": [
    "b = spsp.random(5, 1, density = 0.5, format='csr')"
   ]
  },
  {
   "cell_type": "code",
   "execution_count": 4,
   "metadata": {},
   "outputs": [
    {
     "ename": "TypeError",
     "evalue": "unhashable type: 'dict'",
     "output_type": "error",
     "traceback": [
      "\u001b[0;31m---------------------------------------------------------------------------\u001b[0m",
      "\u001b[0;31mTypeError\u001b[0m                                 Traceback (most recent call last)",
      "Cell \u001b[0;32mIn[4], line 1\u001b[0m\n\u001b[0;32m----> 1\u001b[0m idx \u001b[38;5;241m=\u001b[39m \u001b[43mget_ordering\u001b[49m\u001b[43m(\u001b[49m\u001b[43mA\u001b[49m\u001b[43m,\u001b[49m\u001b[43m \u001b[49m\u001b[38;5;124;43m'\u001b[39;49m\u001b[38;5;124;43mclassical\u001b[39;49m\u001b[38;5;124;43m'\u001b[39;49m\u001b[43m,\u001b[49m\u001b[43m \u001b[49m\u001b[43m{\u001b[49m\u001b[43m}\u001b[49m\u001b[43m)\u001b[49m\n",
      "File \u001b[0;32m~/QuantumApplicationLab/QuantumNewtonRaphson/quantum_newton_raphson/splu_solve.py:40\u001b[0m, in \u001b[0;36mget_ordering\u001b[0;34m(A, reorder_method, options)\u001b[0m\n\u001b[1;32m     33\u001b[0m \u001b[38;5;28;01mif\u001b[39;00m reorder_method \u001b[38;5;129;01mnot\u001b[39;00m \u001b[38;5;129;01min\u001b[39;00m reordering_functions:\n\u001b[1;32m     34\u001b[0m     \u001b[38;5;28;01mraise\u001b[39;00m \u001b[38;5;167;01mValueError\u001b[39;00m(\n\u001b[1;32m     35\u001b[0m         \u001b[38;5;124m\"\u001b[39m\u001b[38;5;124mOrdering method not recognized, valid options are \u001b[39m\u001b[38;5;132;01m{}\u001b[39;00m\u001b[38;5;124m\"\u001b[39m\u001b[38;5;241m.\u001b[39mformat(\n\u001b[1;32m     36\u001b[0m             \u001b[38;5;28mlist\u001b[39m(reordering_functions\u001b[38;5;241m.\u001b[39mkeys())\n\u001b[1;32m     37\u001b[0m         )\n\u001b[1;32m     38\u001b[0m     )\n\u001b[0;32m---> 40\u001b[0m \u001b[38;5;28;01mreturn\u001b[39;00m \u001b[43mreordering_functions\u001b[49m\u001b[43m[\u001b[49m\u001b[43mreorder_method\u001b[49m\u001b[43m]\u001b[49m\u001b[43m(\u001b[49m\u001b[43mA\u001b[49m\u001b[43m,\u001b[49m\u001b[43m \u001b[49m\u001b[38;5;241;43m*\u001b[39;49m\u001b[38;5;241;43m*\u001b[39;49m\u001b[43moptions\u001b[49m\u001b[43m)\u001b[49m\n",
      "File \u001b[0;32m~/QuantumApplicationLab/QuantumNewtonRaphson/quantum_newton_raphson/splu_solve.py:79\u001b[0m, in \u001b[0;36mget_classical_minimal_fill_ordering\u001b[0;34m(A, options)\u001b[0m\n\u001b[1;32m     69\u001b[0m \u001b[38;5;28;01mdef\u001b[39;00m \u001b[38;5;21mget_classical_minimal_fill_ordering\u001b[39m(A: sparray, options: Dict \u001b[38;5;241m=\u001b[39m {}) \u001b[38;5;241m-\u001b[39m\u001b[38;5;241m>\u001b[39m np\u001b[38;5;241m.\u001b[39mndarray:\n\u001b[1;32m     70\u001b[0m \u001b[38;5;250m    \u001b[39m\u001b[38;5;124;03m\"\"\"Get the classical minimal fill ordering classicaly.\u001b[39;00m\n\u001b[1;32m     71\u001b[0m \n\u001b[1;32m     72\u001b[0m \u001b[38;5;124;03m    Args:\u001b[39;00m\n\u001b[0;32m   (...)\u001b[0m\n\u001b[1;32m     77\u001b[0m \u001b[38;5;124;03m        np.ndarray: ordering indices\u001b[39;00m\n\u001b[1;32m     78\u001b[0m \u001b[38;5;124;03m    \"\"\"\u001b[39;00m\n\u001b[0;32m---> 79\u001b[0m     \u001b[38;5;28;01mreturn\u001b[39;00m \u001b[43mfind_reordering_classical\u001b[49m\u001b[43m(\u001b[49m\u001b[43mA\u001b[49m\u001b[43m,\u001b[49m\u001b[43m \u001b[49m\u001b[43moptions\u001b[49m\u001b[43m)\u001b[49m\n",
      "File \u001b[0;32m~/QuantumApplicationLab/matrix_reordering/qreorder/classical_ordering.py:236\u001b[0m, in \u001b[0;36mfind_ordering\u001b[0;34m(adj, method)\u001b[0m\n\u001b[1;32m    234\u001b[0m \u001b[38;5;66;03m# Find ordering\u001b[39;00m\n\u001b[1;32m    235\u001b[0m methods \u001b[38;5;241m=\u001b[39m {\u001b[38;5;124m\"\u001b[39m\u001b[38;5;124mrcm\u001b[39m\u001b[38;5;124m\"\u001b[39m: _find_ordering_rcm, \u001b[38;5;124m\"\u001b[39m\u001b[38;5;124mmcc\u001b[39m\u001b[38;5;124m\"\u001b[39m: _find_ordering_mcc}\n\u001b[0;32m--> 236\u001b[0m ordering \u001b[38;5;241m=\u001b[39m \u001b[43mmethods\u001b[49m\u001b[43m[\u001b[49m\u001b[43mmethod\u001b[49m\u001b[43m]\u001b[49m(graph)\n\u001b[1;32m    237\u001b[0m fill_in \u001b[38;5;241m=\u001b[39m compute_fill_in(graph, ordering)\n\u001b[1;32m    239\u001b[0m \u001b[38;5;28;01mreturn\u001b[39;00m ordering, fill_in\n",
      "\u001b[0;31mTypeError\u001b[0m: unhashable type: 'dict'"
     ]
    }
   ],
   "source": [
    "idx = get_ordering(A, 'classical', {})"
   ]
  },
  {
   "cell_type": "code",
   "execution_count": null,
   "metadata": {},
   "outputs": [],
   "source": []
  }
 ],
 "metadata": {
  "kernelspec": {
   "display_name": "alliander_powerflow",
   "language": "python",
   "name": "python3"
  },
  "language_info": {
   "codemirror_mode": {
    "name": "ipython",
    "version": 3
   },
   "file_extension": ".py",
   "mimetype": "text/x-python",
   "name": "python",
   "nbconvert_exporter": "python",
   "pygments_lexer": "ipython3",
   "version": "3.9.18"
  }
 },
 "nbformat": 4,
 "nbformat_minor": 2
}
