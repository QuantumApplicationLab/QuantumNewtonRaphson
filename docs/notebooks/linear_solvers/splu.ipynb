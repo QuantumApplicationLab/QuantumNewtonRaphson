{
 "cells": [
  {
   "cell_type": "markdown",
   "metadata": {},
   "source": [
    "# Using the QUBO Reordeing Method as part of the Sparse LU Linear Solver\n",
    "This notebook illustrates how to us the QUBO reordering approach included in `QuantumNewonRaphson` via our `qreorder` library. \n",
    "We first need to sdefine the linear system:\n",
    "\n",
    "$$A \\cdot x = b$$\n",
    "\n",
    "We use here a randon sparse matrix $A$ and a random right hand side vector $b$"
   ]
  },
  {
   "cell_type": "code",
   "execution_count": 5,
   "metadata": {},
   "outputs": [],
   "source": [
    "import scipy.sparse as spsp\n",
    "import numpy as np \n",
    "A = spsp.random(5,5, density = 0.5, format='csr')\n",
    "A = A + A.T\n",
    "b = spsp.random(5, 1, density = 0.5, format='csr')\n",
    "b = b.todense()"
   ]
  },
  {
   "cell_type": "markdown",
   "metadata": {},
   "source": [
    "## Classical solution\n",
    "We can use the `SPLU` solver of the library to compute the solution of the linear system without changing the ordering of the matrix "
   ]
  },
  {
   "cell_type": "code",
   "execution_count": 7,
   "metadata": {},
   "outputs": [
    {
     "name": "stderr",
     "output_type": "stream",
     "text": [
      "/home/nico/miniconda3/envs/alliander_powerflow/lib/python3.9/site-packages/scipy/sparse/linalg/_dsolve/linsolve.py:412: SparseEfficiencyWarning: splu converted its input to CSC format\n",
      "  warn('splu converted its input to CSC format', SparseEfficiencyWarning)\n"
     ]
    }
   ],
   "source": [
    "from quantum_newton_raphson.splu_solve import SPLU_SOLVER\n",
    "\n",
    "# define the linear solver with the reorder solver\n",
    "solver = SPLU_SOLVER()\n",
    "res_ref = solver(A,b)"
   ]
  },
  {
   "cell_type": "markdown",
   "metadata": {},
   "source": [
    "## Quantum Reodring Solution\n",
    "We can use the `qreorder` capabilities to find an optimal reordering of the matrix"
   ]
  },
  {
   "cell_type": "code",
   "execution_count": 9,
   "metadata": {},
   "outputs": [],
   "source": [
    "from dwave.samplers import SimulatedAnnealingSampler\n",
    "from qreorder.quantum import QuantumSolver\n",
    "\n",
    "# instantiate the quantum reorder solver using a DWAVE sampler\n",
    "reorder_solver = QuantumSolver(\n",
    "    sampler = SimulatedAnnealingSampler()\n",
    ")\n",
    "# define the linear solver with the reorder solver\n",
    "solver = SPLU_SOLVER(reorder_solver=reorder_solver)\n",
    "res = solver(A,b)"
   ]
  },
  {
   "cell_type": "markdown",
   "metadata": {},
   "source": [
    "## Visualize the results"
   ]
  },
  {
   "cell_type": "code",
   "execution_count": 11,
   "metadata": {},
   "outputs": [
    {
     "data": {
      "text/plain": [
       "<matplotlib.collections.PathCollection at 0x7be9dd899c10>"
      ]
     },
     "execution_count": 11,
     "metadata": {},
     "output_type": "execute_result"
    },
    {
     "data": {
      "image/png": "[encoded data removed]",
      "text/plain": [
       "<Figure size 640x480 with 1 Axes>"
      ]
     },
     "metadata": {},
     "output_type": "display_data"
    }
   ],
   "source": [
    "import matplotlib.pyplot as plt\n",
    "_ = plt.axline( (0,0), slope=1,linestyle='--',color='grey')\n",
    "plt.scatter(res.solution,res_ref.solution)"
   ]
  },
  {
   "cell_type": "markdown",
   "metadata": {},
   "source": [
    "## Investigate the fill in in the LU matrices\n",
    "We can check how much the reordering of the matrix elements change in the density of the L and U matrices of the LU decomposition "
   ]
  },
  {
   "cell_type": "code",
   "execution_count": 14,
   "metadata": {},
   "outputs": [
    {
     "data": {
      "text/plain": [
       "<5x5 sparse matrix of type '<class 'numpy.float64'>'\n",
       "\twith 10 stored elements in Compressed Sparse Column format>"
      ]
     },
     "execution_count": 14,
     "metadata": {},
     "output_type": "execute_result"
    }
   ],
   "source": [
    "res.splu.L"
   ]
  },
  {
   "cell_type": "code",
   "execution_count": 13,
   "metadata": {},
   "outputs": [
    {
     "data": {
      "text/plain": [
       "<5x5 sparse matrix of type '<class 'numpy.float64'>'\n",
       "\twith 15 stored elements in Compressed Sparse Column format>"
      ]
     },
     "execution_count": 13,
     "metadata": {},
     "output_type": "execute_result"
    }
   ],
   "source": [
    "res_ref.splu.L"
   ]
  },
  {
   "cell_type": "code",
   "execution_count": null,
   "metadata": {},
   "outputs": [],
   "source": []
  }
 ],
 "metadata": {
  "kernelspec": {
   "display_name": "alliander_powerflow",
   "language": "python",
   "name": "python3"
  },
  "language_info": {
   "codemirror_mode": {
    "name": "ipython",
    "version": 3
   },
   "file_extension": ".py",
   "mimetype": "text/x-python",
   "name": "python",
   "nbconvert_exporter": "python",
   "pygments_lexer": "ipython3",
   "version": "3.9.18"
  }
 },
 "nbformat": 4,
 "nbformat_minor": 2
}
