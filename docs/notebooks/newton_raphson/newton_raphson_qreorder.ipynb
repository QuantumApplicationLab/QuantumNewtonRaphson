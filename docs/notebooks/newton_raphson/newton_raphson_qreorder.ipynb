{
 "cells": [
  {
   "cell_type": "markdown",
   "metadata": {},
   "source": [
    "# Quantum matrix reordering for Newton-Raphson \n",
    "As explained in the prvious notebook, the Newqton Raphson approach relies on the solution of alinear system using LU decomposition. The reordering of the matrix doen to increase the sparsity of the L and U matrices is hard and only heuristic appraches exists. \n",
    "\n",
    "We present here how to leverage a quantum approach to the reordering problem"
   ]
  },
  {
   "cell_type": "markdown",
   "metadata": {},
   "source": [
    "## Example \n",
    "To make things clearer let's consider the following example:\n",
    "\n",
    "$$\n",
    "f_1(x,y,z) = 2x^3 - x y+ 4z -12 \\\\\n",
    "f_2(x,y,z) = -4x + z^5 + 8 z y \\\\\n",
    "f_3(x,y,z) = 3x^3 +z^5 + 8 z y\n",
    "$$\n",
    "\n",
    "That we define in the following function"
   ]
  },
  {
   "cell_type": "code",
   "execution_count": 3,
   "metadata": {},
   "outputs": [],
   "source": [
    "import numpy as np\n",
    "\n",
    "\n",
    "def func(input):\n",
    "    def f1(x, y, z):\n",
    "        return 2 * x**3 - x * y + 4 * z - 12\n",
    "\n",
    "    def f2(x, y, z):\n",
    "        return -4 * x + z**5 + 8 * z * y\n",
    "\n",
    "    def f3(x, y, z):\n",
    "        return 3 * x**3 + z**5 + 8 * z * y\n",
    "\n",
    "    x, y, z = input\n",
    "    return np.array([f(x, y, z) for f in [f1, f2, f3]])"
   ]
  },
  {
   "cell_type": "markdown",
   "metadata": {},
   "source": [
    "# Using quantum routine to reorder the matrix\n",
    "\n",
    "When dealing with linear systems with a sparse $A$ matrix, it is sometimes important to reporder the element of $A$ as to optmize the sparsity of the LU matrices and therefore limit the memory footprint of the overall approach. The `QuantumNewtonRaphson` library leverage our `qreorder` library that uses a QUBO approach to the reordering problem.  "
   ]
  },
  {
   "cell_type": "code",
   "execution_count": 2,
   "metadata": {},
   "outputs": [
    {
     "name": "stderr",
     "output_type": "stream",
     "text": [
      "/home/nico/QuantumApplicationLab/QuantumNewtonRaphson/quantum_newton_raphson/utils.py:74: SparseEfficiencyWarning: spsolve requires A be CSC or CSR matrix format\n",
      "  warn(\"spsolve requires A be CSC or CSR matrix format\", SparseEfficiencyWarning)\n"
     ]
    }
   ],
   "source": [
    "from dwave.samplers import SimulatedAnnealingSampler\n",
    "from quantum_newton_raphson.newton_raphson import newton_raphson\n",
    "from quantum_newton_raphson.splu_solver import SPLU_SOLVER, QUBOReorder\n",
    "\n",
    "# instantiate the quantum reorder solver using a DWAVE sampler\n",
    "reorder_solver = QUBOReorder(sampler=SimulatedAnnealingSampler())\n",
    "# define the linear solver with the reorder solver\n",
    "solver = SPLU_SOLVER(reorder_solver=reorder_solver)\n",
    "\n",
    "# Solve the newton raphson problem\n",
    "res = newton_raphson(func, np.random.rand(3), linear_solver=solver)\n",
    "\n",
    "# check the solution\n",
    "assert np.allclose(func(res.solution), 0)"
   ]
  },
  {
   "cell_type": "code",
   "execution_count": null,
   "metadata": {},
   "outputs": [],
   "source": []
  }
 ],
 "metadata": {
  "kernelspec": {
   "display_name": "alliander_powerflow",
   "language": "python",
   "name": "python3"
  },
  "language_info": {
   "codemirror_mode": {
    "name": "ipython",
    "version": 3
   },
   "file_extension": ".py",
   "mimetype": "text/x-python",
   "name": "python",
   "nbconvert_exporter": "python",
   "pygments_lexer": "ipython3",
   "version": "3.9.18"
  }
 },
 "nbformat": 4,
 "nbformat_minor": 2
}
