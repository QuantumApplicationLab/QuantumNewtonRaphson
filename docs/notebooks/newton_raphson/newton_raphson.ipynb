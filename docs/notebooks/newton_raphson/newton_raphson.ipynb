{
 "cells": [
  {
   "cell_type": "markdown",
   "metadata": {},
   "source": [
    "# Newton Raphson\n",
    "This short notebook illustrate how to offlaod part of the calculation of a Newton Raphson algorithm to a quantum computers. Several options are possible that we are exploring here.\n",
    "\n",
    "The Newton Raphson algorithm allows to solve a set of non-linear equations:\n",
    "\n",
    "$$\n",
    "f_1(x_1,x_2, ..., x_n) = 0 \\\\\n",
    "f_2(x_1,x_2, ..., x_n) = 0 \\\\\n",
    "... \\\\\n",
    "f_n(x_1,x_2, ..., x_n) = 0 \\\\\n",
    "$$\n",
    "\n",
    "where $x_i$ is a given variable and $f_i$ a general non-linear function.  This is generally written as \n",
    "\n",
    "$$\n",
    "F(X) := \\begin{pmatrix} f_1(X) \\\\ f_2(X) \\\\ ... \\\\ f_n(X) \\end{pmatrix} = 0\n",
    "$$ \n",
    "\n",
    "Assuming the functions $f_j$ are differentiable we define the Jacobian of $F$ at a point $X_k$ as :\n",
    "\n",
    "$$\n",
    "J(X_k) = \\begin{pmatrix}\n",
    "\\partial_1 f_1(X_k) &  \\partial_2 f_1(X_k) & ... & \\partial_n f_1(X_k) \\\\\n",
    "\\partial_1 f_2(X_k) &  \\partial_2 f_2(X_k) & ... & \\partial_n f_2(X_k) \\\\\n",
    "... & ... & ... & ... \\\\\n",
    "\\partial_1 f_n(X_k) &  \\partial_2 f_n(X_k) & ... & \\partial_n f_n(X_k) \\\\\n",
    "\\end{pmatrix}\n",
    "$$\n",
    "\n",
    "\n",
    "Given a point $X_k$ we can find a point closer to the solution by linearizing $F(X)=0$ around $X_k$ and solving the linear equation. In other words we find the next point, $X_{k+1}$ by solving the linear equation:\n",
    "\n",
    "$$\n",
    "F(X_k) + J(X_k)(X - X_k) = 0\n",
    "$$\n",
    "\n",
    "In pseudo algorithm this us expressed as:\n",
    "\n",
    "1. Start with an initial guess $X_0$ and set $k=0$\n",
    "2. while$ $|F(X_k)| > \\epsilon$ :\n",
    "    * Compute the soluion $H_k$ of the linear equation : $J(X_k) H_k = - F(X_k)$\n",
    "    * Update the solution $X_{k+1} = X_{k} + H_{k}$"
   ]
  },
  {
   "cell_type": "markdown",
   "metadata": {},
   "source": [
    "## Example \n",
    "To make things clearer let's consider the following example:\n",
    "\n",
    "$$\n",
    "f_1(x,y,z) = 2x^3 - x y+ 4z -12 \\\\\n",
    "f_2(x,y,z) = -4x + z^5 + 8 z y \\\\\n",
    "f_3(x,y,z) = 3x^3 +z^5 + 8 z y\n",
    "$$\n",
    "\n",
    "That we define in the following function"
   ]
  },
  {
   "cell_type": "code",
   "execution_count": null,
   "metadata": {},
   "outputs": [],
   "source": [
    "import numpy as np\n",
    "def func(input):\n",
    "    def f1(x,y,z):\n",
    "        return 2*x**3 - x*y + 4*z - 12\n",
    "    def f2(x,y,z):\n",
    "        return -4*x + z**5 + 8*z*y\n",
    "    def f3(x,y,z):\n",
    "        return 3*x**3 + z**5 + 8*z*y\n",
    "    x, y, z = input\n",
    "    return np.array([f(x,y,z) for f in[f1,f2,f3]])"
   ]
  },
  {
   "cell_type": "markdown",
   "metadata": {},
   "source": [
    "As seen above we will also need the Jacobian of this function. Given the simplicity of the equation we can have the analytical derivatives  "
   ]
  },
  {
   "cell_type": "code",
   "execution_count": null,
   "metadata": {},
   "outputs": [],
   "source": [
    "def grad(input):\n",
    "    def df1(x,y,z):\n",
    "        return np.array([6*x**2 - y, -x, 4]) \n",
    "    def df2(x,y,z):\n",
    "        return np.array([-4, 8*z, 5*z**4 + 8*y])\n",
    "    def df3(x,y,z):\n",
    "        return np.array([9*x**2, 8*z, 5*z**4 + 8*y])\n",
    "    out = np.zeros((3,3))\n",
    "    x,y,z = input\n",
    "    out[0,:] = df1(x,y,z)\n",
    "    out[1,:] = df2(x,y,z)\n",
    "    out[2,:] = df3(x,y,z)\n",
    "\n",
    "    return out"
   ]
  },
  {
   "cell_type": "markdown",
   "metadata": {},
   "source": [
    "## LU Decomposition \n",
    "\n",
    "The most straightforward way to solve the linear system of equations is to compute the LU decomposition of the matrix of the linear system (i.e. $J(X_k)$). Given a LU decomposition $A = LU$ where $L$ and $U$ are Lower and Upper tridiagonal matrices, one can write:\n",
    "\n",
    "$$\n",
    "A x = b \\\\\n",
    "L U  x = b \\\\\n",
    "L y = b  \\\\\n",
    "U x = y \n",
    "$$\n",
    "\n",
    "The equation $Ly=b$ is solveed using forward substitution and $U X = y$ with backward substitution. This approach therefore replace the linear system $Ax=b$ with two easy to solve linear systems $Ly=b$ and $Ux=y$. \n",
    "\n",
    "One issue appears when the matrix $A$ is very large but very sparse. The LU decomposition can results in a drastic loss of sparsity leading to $L$ and $U$ matrices that are dense. This can lead to memory issues where not enough space is available to store these matrices. \n",
    "\n",
    "Rearranging the elements of the matrix can lead to a significant improvement of the sparsity of $L$ and $U$, but finding an optimal reordering is difficult. Some classical heuristic approaches have been developped are are already implemented in the splu solver\n",
    "\n"
   ]
  },
  {
   "cell_type": "code",
   "execution_count": null,
   "metadata": {},
   "outputs": [],
   "source": [
    "from quantum_newton_raphson.newton_raphson import newton_raphson\n",
    "initial_point = np.random.rand(3)\n",
    "res = newton_raphson(func, initial_point, grad=grad)\n",
    "assert np.allclose(func(res.solution), 0)"
   ]
  },
  {
   "cell_type": "markdown",
   "metadata": {},
   "source": [
    "The gradients of the function can also be computed numerically through finite difference. This is what happens if the argument `grad` is no specified "
   ]
  },
  {
   "cell_type": "code",
   "execution_count": null,
   "metadata": {},
   "outputs": [],
   "source": [
    "res = newton_raphson(func, initial_point)\n",
    "assert np.allclose(func(res.solution), 0)"
   ]
  }
 ],
 "metadata": {
  "kernelspec": {
   "display_name": "alliander_powerflow",
   "language": "python",
   "name": "python3"
  },
  "language_info": {
   "codemirror_mode": {
    "name": "ipython",
    "version": 3
   },
   "file_extension": ".py",
   "mimetype": "text/x-python",
   "name": "python",
   "nbconvert_exporter": "python",
   "pygments_lexer": "ipython3",
   "version": "3.9.18"
  }
 },
 "nbformat": 4,
 "nbformat_minor": 2
}
