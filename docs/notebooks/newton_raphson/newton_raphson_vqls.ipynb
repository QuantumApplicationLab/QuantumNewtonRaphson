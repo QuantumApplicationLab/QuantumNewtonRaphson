{
 "cells": [
  {
   "cell_type": "markdown",
   "metadata": {},
   "source": [
    "# Variational Quantum Linear Solver for Newton-Raphson \n",
    "As explained in the previous notebook, the Newton Raphson approach relies on the solution of a linear system. Several quantum linear solvers have been developped, one of them being the Variational Quantum linear solver. This solver uses a variational approach to solve the system of linear equations."
   ]
  },
  {
   "cell_type": "markdown",
   "metadata": {},
   "source": [
    "## Example \n",
    "To make things clearer let's consider the following example:\n",
    "\n",
    "$$\n",
    "f_1(x,y) = 0.2 x^3 - 0.4 y \\\\\n",
    "f_2(x,y) = - 0.4 x  + 0.8 y^2 \\\\\n",
    "$$\n",
    "\n",
    "That we define in the following function"
   ]
  },
  {
   "cell_type": "code",
   "execution_count": null,
   "metadata": {},
   "outputs": [],
   "source": [
    "import numpy as np\n",
    "def func(input):\n",
    "    def f1(x,y):\n",
    "        return 0.1*(2*x**3 - 4* y)\n",
    "    def f2(x,y):\n",
    "        return 0.1*(- 4 * x + 8*y**2)\n",
    "    x, y = input\n",
    "    return np.array([f(x,y) for f in[f1,f2]])"
   ]
  },
  {
   "cell_type": "markdown",
   "metadata": {},
   "source": [
    "# Using VQSL to solve the linear system\n",
    "\n",
    "The `QuantumNewtonRaphson` can use our `vqls` solver to solve the linear system of equations at the hart of the newton raphson routine.  "
   ]
  },
  {
   "cell_type": "code",
   "execution_count": null,
   "metadata": {},
   "outputs": [],
   "source": [
    "from qiskit.circuit.library import RealAmplitudes\n",
    "from qiskit.primitives import Estimator\n",
    "from qiskit_algorithms.optimizers import CG\n",
    "from quantum_newton_raphson.newton_raphson import newton_raphson\n",
    "from quantum_newton_raphson.vqls_solver import VQLS_SOLVER\n",
    "\n",
    "estimator = Estimator()\n",
    "ansatz = RealAmplitudes(1, entanglement='full', reps=3)\n",
    "optim = CG(maxiter=1000, tol=1E-10)\n",
    "\n",
    "# define the linear solver with the reorder solver\n",
    "solver = VQLS_SOLVER(estimator=estimator, ansatz=ansatz, optimizer=optim, matrix_decomposition=\"symmetric\")\n",
    "\n",
    "# Solve the newton raphson problem\n",
    "res = newton_raphson(func, np.random.rand(2), linear_solver=solver, verbose=True, max_iter=10)\n"
   ]
  },
  {
   "cell_type": "markdown",
   "metadata": {},
   "source": [
    "We can check the solution of the linear system within he NR step obtained with VQLS for one of the iteration"
   ]
  },
  {
   "cell_type": "code",
   "execution_count": null,
   "metadata": {},
   "outputs": [],
   "source": [
    "import matplotlib.pyplot as plt\n",
    "n = 4\n",
    "plt.subplot(121)\n",
    "plt.semilogy(res.linear_solver_results[n].logger.values)\n",
    "plt.subplot(122)\n",
    "plt.scatter(res.linear_solver_results[n].ref, res.linear_solver_results[n].solution)\n",
    "_ = plt.axline( (0,0), slope=1,linestyle='--',color='grey')\n"
   ]
  },
  {
   "cell_type": "markdown",
   "metadata": {},
   "source": [
    "We can check the solution against the solution obatined via a classical newton raphson "
   ]
  },
  {
   "cell_type": "code",
   "execution_count": null,
   "metadata": {},
   "outputs": [],
   "source": [
    "import matplotlib.pyplot as plt\n",
    "res_ref = newton_raphson(func, np.random.rand(2))\n",
    "plt.scatter(res_ref.solution, res.solution)\n",
    "_ = plt.axline( (0,0),slope=1,linestyle='--',color='grey')"
   ]
  }
 ],
 "metadata": {
  "kernelspec": {
   "display_name": "alliander_powerflow",
   "language": "python",
   "name": "python3"
  },
  "language_info": {
   "codemirror_mode": {
    "name": "ipython",
    "version": 3
   },
   "file_extension": ".py",
   "mimetype": "text/x-python",
   "name": "python",
   "nbconvert_exporter": "python",
   "pygments_lexer": "ipython3",
   "version": "3.9.18"
  }
 },
 "nbformat": 4,
 "nbformat_minor": 2
}
