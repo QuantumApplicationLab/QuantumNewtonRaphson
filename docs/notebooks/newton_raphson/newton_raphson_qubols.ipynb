{
 "cells": [
  {
   "cell_type": "markdown",
   "metadata": {},
   "source": [
    "# QUBO Linear Solver for Newton-Raphson \n",
    "As explained in the previous notebook, the Newton Raphson approach relies on the solution of a linear system. Several quantum linear solvers have been developped, one of them being the QUBO linear solver. This solver recast the residue of the linear system as a QUBO problem and seek an optimal solution of this problem, leading to an approximation of the linear system of equation."
   ]
  },
  {
   "cell_type": "markdown",
   "metadata": {},
   "source": [
    "## Example \n",
    "To make things clearer let's consider the following example:\n",
    "\n",
    "$$\n",
    "f_1(x,y,z) = 2x^3 - x y+ 4z -12 \\\\\n",
    "f_2(x,y,z) = -4x + z^5 + 8 z y \\\\\n",
    "f_3(x,y,z) = 3x^3 +z^5 + 8 z y\n",
    "$$\n",
    "\n",
    "That we define in the following function"
   ]
  },
  {
   "cell_type": "code",
   "execution_count": null,
   "metadata": {},
   "outputs": [],
   "source": [
    "import numpy as np\n",
    "def func(input):\n",
    "    def f1(x,y,z):\n",
    "        return 2*x**3 - x*y + 4*z - 12\n",
    "    def f2(x,y,z):\n",
    "        return -4*x + z**5 + 8*z*y\n",
    "    def f3(x,y,z):\n",
    "        return 3*x**3 + z**5 + 8*z*y\n",
    "    x, y, z = input\n",
    "    return np.array([f(x,y,z) for f in[f1,f2,f3]])"
   ]
  },
  {
   "cell_type": "markdown",
   "metadata": {},
   "source": [
    "# Using QUBOLS to solve the linear system\n",
    "\n",
    "The `QuantumNewtonRaphson` can use our `qubols` solver to solve the linear system of equations at the hart of the newton raphson routine.  "
   ]
  },
  {
   "cell_type": "code",
   "execution_count": null,
   "metadata": {},
   "outputs": [],
   "source": [
    "from qubols.encodings import EfficientEncoding\n",
    "from quantum_newton_raphson.newton_raphson import newton_raphson\n",
    "from quantum_newton_raphson.qubo_solve import QUBO_SOLVER\n",
    "\n",
    "# define the linear solver with the reorder solver\n",
    "solver = QUBO_SOLVER(num_reads=100, num_qbits=11, encoding=EfficientEncoding)\n",
    "\n",
    "# Solve the newton raphson problem\n",
    "res = newton_raphson(func, np.random.rand(3), linear_solver=solver)\n"
   ]
  },
  {
   "cell_type": "markdown",
   "metadata": {},
   "source": [
    "We can check the solution against the solution obatined via a classical newton raphson "
   ]
  },
  {
   "cell_type": "code",
   "execution_count": null,
   "metadata": {},
   "outputs": [],
   "source": [
    "import matplotlib.pyplot as plt\n",
    "res_ref = newton_raphson(func, np.random.rand(3))\n",
    "plt.scatter(res_ref.solution,res.solution)\n",
    "_ = plt.axline( (0,0),slope=1,linestyle='--',color='grey')"
   ]
  }
 ],
 "metadata": {
  "kernelspec": {
   "display_name": "alliander_powerflow",
   "language": "python",
   "name": "python3"
  },
  "language_info": {
   "codemirror_mode": {
    "name": "ipython",
    "version": 3
   },
   "file_extension": ".py",
   "mimetype": "text/x-python",
   "name": "python",
   "nbconvert_exporter": "python",
   "pygments_lexer": "ipython3",
   "version": "3.9.18"
  }
 },
 "nbformat": 4,
 "nbformat_minor": 2
}
