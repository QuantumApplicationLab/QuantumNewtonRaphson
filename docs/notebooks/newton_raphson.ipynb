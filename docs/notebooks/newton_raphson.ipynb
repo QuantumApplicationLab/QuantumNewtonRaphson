{
 "cells": [
  {
   "cell_type": "code",
   "execution_count": 1,
   "metadata": {},
   "outputs": [],
   "source": [
    "from quantum_newton_raphson.newton_raphson import newton_raphson\n",
    "from quantum_newton_raphson.utils import finite_difference_grads\n",
    "from scipy.sparse import csc_matrix\n",
    "import numpy as np"
   ]
  },
  {
   "cell_type": "code",
   "execution_count": 2,
   "metadata": {},
   "outputs": [],
   "source": [
    "def func(input):\n",
    "    def f1(x,y,z):\n",
    "        return 2*x**3 - x*y + 4*z - 12\n",
    "    def f2(x,y,z):\n",
    "        return -4*x + z**5 + 8*z*y\n",
    "    def f3(x,y,z):\n",
    "        return 3*x**3 + z**5 + 8*z*y\n",
    "    x, y, z = input\n",
    "    return np.array([f(x,y,z) for f in[f1,f2,f3]])\n",
    "\n",
    "def grad(input):\n",
    "    def df1(x,y,z):\n",
    "        return np.array([6*x**2 - y, -x, 4]) \n",
    "    def df2(x,y,z):\n",
    "        return np.array([-4, 8*z, 5*z**4 + 8*y])\n",
    "    def df3(x,y,z):\n",
    "        return np.array([9*x**2, 8*z, 5*z**4 + 8*y])\n",
    "    out = np.zeros((3,3))\n",
    "    x,y,z = input\n",
    "    out[0,:] = df1(x,y,z)\n",
    "    out[1,:] = df2(x,y,z)\n",
    "    out[2,:] = df3(x,y,z)\n",
    "\n",
    "    return out"
   ]
  },
  {
   "cell_type": "code",
   "execution_count": 8,
   "metadata": {},
   "outputs": [
    {
     "name": "stderr",
     "output_type": "stream",
     "text": [
      "/home/nico/miniconda3/envs/alliander_powerflow/lib/python3.9/site-packages/scipy/sparse/linalg/_dsolve/linsolve.py:412: SparseEfficiencyWarning: splu converted its input to CSC format\n",
      "  warn('splu converted its input to CSC format', SparseEfficiencyWarning)\n"
     ]
    }
   ],
   "source": [
    "initial_point = np.random.rand(3)\n",
    "res = newton_raphson(func, initial_point)"
   ]
  },
  {
   "cell_type": "code",
   "execution_count": 9,
   "metadata": {},
   "outputs": [
    {
     "data": {
      "text/plain": [
       "array([0.00000000e+00, 2.33058017e-12, 2.33058017e-12])"
      ]
     },
     "execution_count": 9,
     "metadata": {},
     "output_type": "execute_result"
    }
   ],
   "source": [
    "func(res.solution)"
   ]
  },
  {
   "cell_type": "code",
   "execution_count": 10,
   "metadata": {},
   "outputs": [
    {
     "data": {
      "text/plain": [
       "True"
      ]
     },
     "execution_count": 10,
     "metadata": {},
     "output_type": "execute_result"
    }
   ],
   "source": [
    "np.allclose(func(res.solution), 0)"
   ]
  },
  {
   "cell_type": "code",
   "execution_count": null,
   "metadata": {},
   "outputs": [],
   "source": []
  }
 ],
 "metadata": {
  "kernelspec": {
   "display_name": "alliander_powerflow",
   "language": "python",
   "name": "python3"
  },
  "language_info": {
   "codemirror_mode": {
    "name": "ipython",
    "version": 3
   },
   "file_extension": ".py",
   "mimetype": "text/x-python",
   "name": "python",
   "nbconvert_exporter": "python",
   "pygments_lexer": "ipython3",
   "version": "3.9.18"
  }
 },
 "nbformat": 4,
 "nbformat_minor": 2
}
