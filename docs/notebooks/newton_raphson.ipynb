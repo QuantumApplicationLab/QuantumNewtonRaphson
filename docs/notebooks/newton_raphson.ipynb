{
 "cells": [
  {
   "cell_type": "code",
   "execution_count": 2,
   "metadata": {},
   "outputs": [],
   "source": [
    "from quantum_newton_raphson import newton_raphson\n",
    "from scipy.sparse import csc_matrix\n",
    "import numpy as np"
   ]
  },
  {
   "cell_type": "code",
   "execution_count": 10,
   "metadata": {},
   "outputs": [
    {
     "data": {
      "text/plain": [
       "array([[ 2,  0,  4],\n",
       "       [ 0,  0,  5],\n",
       "       [ 4,  5, 12]])"
      ]
     },
     "execution_count": 10,
     "metadata": {},
     "output_type": "execute_result"
    }
   ],
   "source": []
  },
  {
   "cell_type": "code",
   "execution_count": 45,
   "metadata": {},
   "outputs": [],
   "source": [
    "def func(input):\n",
    "    def f1(x,y,z):\n",
    "        return 2*x**3 - x*y + 4*z - 12\n",
    "    def f2(x,y,z):\n",
    "        return -4*x + z**5 + 8*z*y\n",
    "    def f3(x,y,z):\n",
    "        return 3*x*3 + z**5 + 8*z*y\n",
    "    x, y, z = input\n",
    "    return np.array([f(x,y,z) for f in[f1,f2,f3]])\n",
    "\n",
    "def grad(input):\n",
    "    def df1(x,y,z):\n",
    "        return np.array([6*x**2 - y, -x, 4]) \n",
    "    def df2(x,y,z):\n",
    "        return np.array([-4, 8*z, 5*z**4])\n",
    "    def df3(x,y,z):\n",
    "        return np.array([9*x**2, 8*z, 5*z**4 + 8*y])\n",
    "    out = np.zeros((3,3))\n",
    "    x,y,z = input\n",
    "    out[0,:] = df1(x,y,z)\n",
    "    out[1,:] = df2(x,y,z)\n",
    "    out[2,:] = df3(x,y,z)\n",
    "\n",
    "    return out"
   ]
  },
  {
   "cell_type": "code",
   "execution_count": 68,
   "metadata": {},
   "outputs": [],
   "source": [
    "def finite_difference_grads(input, func, eps=1e-6):\n",
    "    size = input.shape[0]\n",
    "    out = np.zeros((size,size))\n",
    "\n",
    "    for ix in range(size):\n",
    "        input_temp = np.copy(input)\n",
    "        input_temp[ix] += eps\n",
    "        grad_ix = func(input_temp)\n",
    "        input_temp[ix] -= 2*eps\n",
    "        grad_ix -= func(input_temp)\n",
    "\n",
    "        out[:, ix] = grad_ix / eps / 2\n",
    "    return out "
   ]
  },
  {
   "cell_type": "code",
   "execution_count": 69,
   "metadata": {},
   "outputs": [
    {
     "data": {
      "text/plain": [
       "array([-10.6828362 ,  -3.44384324,   9.46835155])"
      ]
     },
     "execution_count": 69,
     "metadata": {},
     "output_type": "execute_result"
    }
   ],
   "source": [
    "x = np.random.rand(3)\n",
    "f = func(x)\n",
    "f"
   ]
  },
  {
   "cell_type": "code",
   "execution_count": 70,
   "metadata": {},
   "outputs": [
    {
     "data": {
      "text/plain": [
       "array([[ 4.98664394e+00, -9.93245752e-01,  4.00000000e+00],\n",
       "       [-4.00000000e+00,  5.67392242e-01,  1.26515469e-04],\n",
       "       [ 8.87883412e+00,  5.67392242e-01,  7.46075697e+00]])"
      ]
     },
     "execution_count": 70,
     "metadata": {},
     "output_type": "execute_result"
    }
   ],
   "source": [
    "g = grad(x)\n",
    "g"
   ]
  },
  {
   "cell_type": "code",
   "execution_count": 71,
   "metadata": {},
   "outputs": [
    {
     "name": "stdout",
     "output_type": "stream",
     "text": [
      "0 [0.99324575 0.93257881 0.07092403]\n",
      "1 [0.99324575 0.93257881 0.07092403]\n",
      "2 [0.99324575 0.93257881 0.07092403]\n"
     ]
    },
    {
     "data": {
      "text/plain": [
       "array([[ 4.98623365, -0.99298347,  4.0003556 ],\n",
       "       [-3.99991151,  0.56754601,  7.46092077],\n",
       "       [ 8.99991193,  0.56754601,  7.46069873]])"
      ]
     },
     "execution_count": 71,
     "metadata": {},
     "output_type": "execute_result"
    }
   ],
   "source": [
    "gx = finite_difference_grads(x, func, eps=1E-12)\n",
    "gx"
   ]
  },
  {
   "cell_type": "code",
   "execution_count": 50,
   "metadata": {},
   "outputs": [
    {
     "data": {
      "text/plain": [
       "array([[ 3.85864933,  0.98967834, 13.98967834],\n",
       "       [ 3.85597177,  0.99767834, 13.99767834],\n",
       "       [ 3.85697177,  0.99888102, 13.99888102]])"
      ]
     },
     "execution_count": 50,
     "metadata": {},
     "output_type": "execute_result"
    }
   ],
   "source": [
    "gx"
   ]
  },
  {
   "cell_type": "code",
   "execution_count": null,
   "metadata": {},
   "outputs": [],
   "source": []
  }
 ],
 "metadata": {
  "kernelspec": {
   "display_name": "alliander_powerflow",
   "language": "python",
   "name": "python3"
  },
  "language_info": {
   "codemirror_mode": {
    "name": "ipython",
    "version": 3
   },
   "file_extension": ".py",
   "mimetype": "text/x-python",
   "name": "python",
   "nbconvert_exporter": "python",
   "pygments_lexer": "ipython3",
   "version": "3.9.18"
  }
 },
 "nbformat": 4,
 "nbformat_minor": 2
}
