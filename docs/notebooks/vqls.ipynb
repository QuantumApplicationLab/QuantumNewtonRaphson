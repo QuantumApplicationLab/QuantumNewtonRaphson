{
 "cells": [
  {
   "cell_type": "code",
   "execution_count": 5,
   "metadata": {},
   "outputs": [],
   "source": [
    "from scipy.sparse import random as sprand \n",
    "import numpy as np \n",
    "from quantum_newton_raphson.vqls_solve import vqlssolve\n",
    "\n",
    "A = sprand(4,4, density=0.8, format='csr')\n",
    "A = np.random.rand(4,4)\n",
    "A = A+A.T\n",
    "b = np.random.rand(4)"
   ]
  },
  {
   "cell_type": "code",
   "execution_count": 14,
   "metadata": {},
   "outputs": [],
   "source": [
    "from qiskit.primitives import Estimator \n",
    "from qiskit.circuit.library import RealAmplitudes \n",
    "from qiskit.algorithms.optimizers import ADAM, COBYLA\n",
    "from qalcore.qiskit.vqls import VQLS\n",
    "\n",
    "estimator = Estimator()\n",
    "ansatz = RealAmplitudes(2)\n",
    "optim = COBYLA()"
   ]
  },
  {
   "cell_type": "code",
   "execution_count": 15,
   "metadata": {},
   "outputs": [],
   "source": [
    "A = sprand(4,4)\n",
    "A = A+A.T \n",
    "b = np.random.rand(4)"
   ]
  },
  {
   "cell_type": "code",
   "execution_count": 18,
   "metadata": {},
   "outputs": [],
   "source": [
    "quantum_solver_options = {'estimator':estimator, 'ansatz':ansatz, 'optimizer':optim}\n",
    "res = vqlssolve(A, b, quantum_solver_options)"
   ]
  },
  {
   "cell_type": "code",
   "execution_count": 19,
   "metadata": {},
   "outputs": [
    {
     "data": {
      "text/plain": [
       "array([ 1.33933836e-05, -9.30412466e-06, -1.27557308e-06, -7.22394845e-06])"
      ]
     },
     "execution_count": 19,
     "metadata": {},
     "output_type": "execute_result"
    }
   ],
   "source": [
    "A @ res.solution - b"
   ]
  },
  {
   "cell_type": "code",
   "execution_count": null,
   "metadata": {},
   "outputs": [],
   "source": []
  }
 ],
 "metadata": {
  "kernelspec": {
   "display_name": "alliander_powerflow",
   "language": "python",
   "name": "python3"
  },
  "language_info": {
   "codemirror_mode": {
    "name": "ipython",
    "version": 3
   },
   "file_extension": ".py",
   "mimetype": "text/x-python",
   "name": "python",
   "nbconvert_exporter": "python",
   "pygments_lexer": "ipython3",
   "version": "3.9.18"
  }
 },
 "nbformat": 4,
 "nbformat_minor": 2
}
