{
 "cells": [
  {
   "cell_type": "code",
   "execution_count": 5,
   "metadata": {},
   "outputs": [],
   "source": [
    "from scipy.sparse import random as sprand \n",
    "import numpy as np \n",
    "from quantum_newton_raphson.vqls_solve import vqlssolve\n",
    "\n",
    "A = sprand(4,4, density=0.8, format='csr')\n",
    "A = np.random.rand(4,4)\n",
    "A = A+A.T\n",
    "b = np.random.rand(4)"
   ]
  },
  {
   "cell_type": "code",
   "execution_count": 10,
   "metadata": {},
   "outputs": [],
   "source": [
    "from qiskit.primitives import Estimator \n",
    "from qiskit.circuit.library import RealAmplitudes \n",
    "from qiskit.algorithms.optimizers import ADAM, COBYLA\n",
    "from qalcore.qiskit.vqls import VQLS\n",
    "\n",
    "estimator = Estimator()\n",
    "ansatz = RealAmplitudes(2)\n",
    "optim = ADAM()"
   ]
  },
  {
   "cell_type": "code",
   "execution_count": 11,
   "metadata": {},
   "outputs": [],
   "source": [
    "A = np.random.rand(4,4)\n",
    "A = A+A.T \n",
    "b = np.random.rand(4)"
   ]
  },
  {
   "cell_type": "code",
   "execution_count": 12,
   "metadata": {},
   "outputs": [],
   "source": [
    "vqls = VQLS(estimator, ansatz, optim)"
   ]
  },
  {
   "cell_type": "code",
   "execution_count": 13,
   "metadata": {},
   "outputs": [],
   "source": [
    "rex = vqls.solve(A, b)"
   ]
  },
  {
   "cell_type": "code",
   "execution_count": null,
   "metadata": {},
   "outputs": [],
   "source": []
  }
 ],
 "metadata": {
  "kernelspec": {
   "display_name": "alliander_powerflow",
   "language": "python",
   "name": "python3"
  },
  "language_info": {
   "codemirror_mode": {
    "name": "ipython",
    "version": 3
   },
   "file_extension": ".py",
   "mimetype": "text/x-python",
   "name": "python",
   "nbconvert_exporter": "python",
   "pygments_lexer": "ipython3",
   "version": "3.9.18"
  }
 },
 "nbformat": 4,
 "nbformat_minor": 2
}
