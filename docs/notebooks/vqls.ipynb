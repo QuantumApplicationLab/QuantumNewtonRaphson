{
 "cells": [
  {
   "cell_type": "code",
   "execution_count": 2,
   "metadata": {},
   "outputs": [],
   "source": [
    "from scipy.sparse import random as sprand \n",
    "import numpy as np \n",
    "from quantum_newton_raphson.vqls_solve import VQLS_SOLVER\n",
    "\n",
    "A = sprand(4,4, density=0.8, format='csr')\n",
    "A = np.random.rand(4,4)\n",
    "A = A+A.T\n",
    "b = np.random.rand(4)"
   ]
  },
  {
   "cell_type": "code",
   "execution_count": 4,
   "metadata": {},
   "outputs": [
    {
     "data": {
      "text/plain": [
       "array([-1.34193508,  0.51817625,  2.35294941, -1.95280335])"
      ]
     },
     "execution_count": 4,
     "metadata": {},
     "output_type": "execute_result"
    }
   ],
   "source": [
    "ref = np.linalg.solve(A,b)\n",
    "ref"
   ]
  },
  {
   "cell_type": "code",
   "execution_count": 6,
   "metadata": {},
   "outputs": [
    {
     "name": "stderr",
     "output_type": "stream",
     "text": [
      "/tmp/ipykernel_4124/3213876143.py:3: DeprecationWarning: ``qiskit.algorithms`` has been migrated to an independent package: https://github.com/qiskit-community/qiskit-algorithms. The ``qiskit.algorithms`` import path is deprecated as of qiskit-terra 0.25.0 and will be removed no earlier than 3 months after the release date. Please run ``pip install qiskit_algorithms`` and use ``import qiskit_algorithms`` instead.\n",
      "  from qiskit.algorithms.optimizers import ADAM, COBYLA\n"
     ]
    }
   ],
   "source": [
    "from qiskit.primitives import Estimator \n",
    "from qiskit.circuit.library import RealAmplitudes \n",
    "from qiskit.algorithms.optimizers import ADAM, COBYLA\n",
    "\n",
    "estimator = Estimator()\n",
    "ansatz = RealAmplitudes(2)\n",
    "optim = COBYLA()"
   ]
  },
  {
   "cell_type": "code",
   "execution_count": 9,
   "metadata": {},
   "outputs": [],
   "source": [
    "quantum_solver_options = {'estimator':estimator, 'ansatz':ansatz, 'optimizer':optim}\n",
    "solver = VQLS_SOLVER(estimator=estimator, ansatz=ansatz, optimizer=optim)"
   ]
  },
  {
   "cell_type": "code",
   "execution_count": 10,
   "metadata": {},
   "outputs": [
    {
     "name": "stderr",
     "output_type": "stream",
     "text": [
      "/home/nico/QuantumApplicationLab/QuantumNewtonRaphson/quantum_newton_raphson/utils.py:74: SparseEfficiencyWarning: spsolve requires A be CSC or CSR matrix format\n",
      "  warn(\"spsolve requires A be CSC or CSR matrix format\", SparseEfficiencyWarning)\n"
     ]
    }
   ],
   "source": [
    "sol = solver(A, b)"
   ]
  },
  {
   "cell_type": "code",
   "execution_count": 12,
   "metadata": {},
   "outputs": [
    {
     "data": {
      "text/plain": [
       "<matplotlib.collections.PathCollection at 0x7f90f30eda60>"
      ]
     },
     "execution_count": 12,
     "metadata": {},
     "output_type": "execute_result"
    },
    {
     "data": {
      "image/png": "[encoded data removed]",
      "text/plain": [
       "<Figure size 640x480 with 1 Axes>"
      ]
     },
     "metadata": {},
     "output_type": "display_data"
    }
   ],
   "source": [
    "import matplotlib.pyplot as plt \n",
    "plt.plot([-1,1],[-1,1],'--')\n",
    "plt.scatter(sol.solution, ref)"
   ]
  },
  {
   "cell_type": "code",
   "execution_count": null,
   "metadata": {},
   "outputs": [],
   "source": []
  }
 ],
 "metadata": {
  "kernelspec": {
   "display_name": "alliander_powerflow",
   "language": "python",
   "name": "python3"
  },
  "language_info": {
   "codemirror_mode": {
    "name": "ipython",
    "version": 3
   },
   "file_extension": ".py",
   "mimetype": "text/x-python",
   "name": "python",
   "nbconvert_exporter": "python",
   "pygments_lexer": "ipython3",
   "version": "3.9.18"
  }
 },
 "nbformat": 4,
 "nbformat_minor": 2
}
