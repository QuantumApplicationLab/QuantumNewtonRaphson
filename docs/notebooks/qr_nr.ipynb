{
 "cells": [
  {
   "cell_type": "code",
   "execution_count": 1,
   "metadata": {},
   "outputs": [],
   "source": [
    "from quantum_newton_raphson.newton_raphson import newton_raphson\n",
    "import numpy as np"
   ]
  },
  {
   "cell_type": "markdown",
   "metadata": {},
   "source": [
    "# Quantum matrix reordering for Newton-Raphson \n",
    "As explained in the prvious notebook, the Newqton Raphson approach relies on the solution of alinear system using LU decomposition. The reordering of the matrix doen to increase the sparsity of the L and U matrices is hard and only heuristic appraches exists. \n",
    "\n",
    "We present here how to leverage a quantum approach to the reordering problem"
   ]
  },
  {
   "cell_type": "markdown",
   "metadata": {},
   "source": [
    "## Example \n",
    "To make things clearer let's consider the following example:\n",
    "\n",
    "$$\n",
    "f_1(x,y,z) = 2x^3 - x y+ 4z -12 \\\\\n",
    "f_2(x,y,z) = -4x + z^5 + 8 z y \\\\\n",
    "f_3(x,y,z) = 3x^3 +z^5 + 8 z y\n",
    "$$\n",
    "\n",
    "That we define in the following function"
   ]
  },
  {
   "cell_type": "code",
   "execution_count": 2,
   "metadata": {},
   "outputs": [],
   "source": [
    "def func(input):\n",
    "    def f1(x,y,z):\n",
    "        return 2*x**3 - x*y + 4*z - 12\n",
    "    def f2(x,y,z):\n",
    "        return -4*x + z**5 + 8*z*y\n",
    "    def f3(x,y,z):\n",
    "        return 3*x**3 + z**5 + 8*z*y\n",
    "    x, y, z = input\n",
    "    return np.array([f(x,y,z) for f in[f1,f2,f3]])"
   ]
  },
  {
   "cell_type": "markdown",
   "metadata": {},
   "source": [
    "# Quantum approach to the matrix reordering problem"
   ]
  },
  {
   "cell_type": "code",
   "execution_count": 5,
   "metadata": {},
   "outputs": [],
   "source": [
    "from quantum_newton_raphson.splu_solve import SPLU_SOLVER\n",
    "initial_point = np.random.rand(3)\n",
    "solver = SPLU_SOLVER(reorder='quantum', use_qpu=False)\n",
    "res = newton_raphson(func, initial_point, linear_solver=solver)\n",
    "assert np.allclose(func(res.solution), 0)"
   ]
  },
  {
   "cell_type": "code",
   "execution_count": null,
   "metadata": {},
   "outputs": [],
   "source": []
  }
 ],
 "metadata": {
  "kernelspec": {
   "display_name": "alliander_powerflow",
   "language": "python",
   "name": "python3"
  },
  "language_info": {
   "codemirror_mode": {
    "name": "ipython",
    "version": 3
   },
   "file_extension": ".py",
   "mimetype": "text/x-python",
   "name": "python",
   "nbconvert_exporter": "python",
   "pygments_lexer": "ipython3",
   "version": "3.9.18"
  }
 },
 "nbformat": 4,
 "nbformat_minor": 2
}
